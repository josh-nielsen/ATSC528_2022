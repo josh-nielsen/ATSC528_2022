{
 "cells": [
  {
   "cell_type": "code",
   "execution_count": null,
   "id": "55c27f76",
   "metadata": {},
   "outputs": [],
   "source": [
    "\"\"\"\n",
    "Created By    : Jared W. Marquis\n",
    "Creation Date : 01 August 2022\n",
    "Course        : ATSC 528 - Atmospheric Data Analysis\n",
    "Assignment    : #04 - Chaos\n",
    "\n",
    "Edited By     : Josh Nielsen\n",
    "Edited On     : 05 December 2022\n",
    "\n",
    "Purpose:\n",
    "Script to examine how chaos manifests in simple model.\n",
    "\n",
    "This script examines chaos using the system of ordinary differential equations\n",
    "examined by Lorenz in 1984, 1990, and 2006. The equations were solved using\n",
    "forward time differencing before being coded into the script. Then the constants \n",
    "in the equations were defined and two sets of initial conditions were given. Then \n",
    "the timestep was defined and the number of total steps was calculated. Arrays to \n",
    "hold the data were created. Then the simulations were ran for each set of initial \n",
    "conditions. After this, 3 plots were created comparing the differences in x, y, \n",
    "and z for each simulation. The differences in x, y, and z show how chaos manifests,\n",
    "even with very minor changes in initial conditions.\n",
    "\n",
    "\"\"\"\n",
    "__author__    = \"Jared W. Marquis\"\n",
    "__contact__   = \"jared.marquis@und.edu\"\n",
    "\n",
    "__editor__    = \"Josh Nielsen\"\n",
    "__contact__   = \"joshua.nielsen@und.edu\""
   ]
  },
  {
   "cell_type": "code",
   "execution_count": null,
   "id": "7335135f",
   "metadata": {},
   "outputs": [],
   "source": [
    "### Import Required Modules (shouldn't need to change) ###\n",
    "import numpy as np                 #numpy for math\n",
    "import matplotlib.pyplot as plt    #matplotlib for plotting\n",
    "import cartopy.crs as ccrs         #cartopy for plotting on map\n",
    "import cartopy.feature as cfeature #cartopy basic shapefiles"
   ]
  },
  {
   "cell_type": "code",
   "execution_count": null,
   "id": "9cc401e3",
   "metadata": {},
   "outputs": [],
   "source": [
    "### Set constants ###\n",
    "a = 0.25\n",
    "b = 4.0\n",
    "F = 8.0\n",
    "G = 1.0\n",
    "\n",
    "### Set initial condtions ###\n",
    "x1_initial = 2.5\n",
    "y1_initial = 1.0\n",
    "z1_initial = 0.0\n",
    "\n",
    "x2_initial = 2.49\n",
    "y2_initial = 1.0\n",
    "z2_initial = 0.0"
   ]
  },
  {
   "cell_type": "code",
   "execution_count": null,
   "id": "995bef69",
   "metadata": {},
   "outputs": [],
   "source": [
    "### Set time step ###\n",
    "dt = 4/(24*5)\n",
    "tot_steps = int(120/5)/dt\n",
    "tot_steps = int(tot_steps)"
   ]
  },
  {
   "cell_type": "code",
   "execution_count": null,
   "id": "ce667dec",
   "metadata": {},
   "outputs": [],
   "source": [
    "### Set empty arrays for results ###\n",
    "sim_1_x = np.empty(tot_steps)\n",
    "sim_1_y = np.empty(tot_steps)\n",
    "sim_1_z = np.empty(tot_steps)\n",
    "\n",
    "sim_2_x = np.empty(tot_steps)\n",
    "sim_2_y = np.empty(tot_steps)\n",
    "sim_2_z = np.empty(tot_steps)\n",
    "\n",
    "### Put initial conditions into arrays ###\n",
    "sim_1_x[0] = x1_initial\n",
    "sim_1_y[0] = y1_initial\n",
    "sim_1_z[0] = z1_initial\n",
    "\n",
    "sim_2_x[0] = x2_initial\n",
    "sim_2_y[0] = y2_initial\n",
    "sim_2_z[0] = z2_initial"
   ]
  },
  {
   "cell_type": "code",
   "execution_count": null,
   "id": "fb79eb94",
   "metadata": {},
   "outputs": [],
   "source": [
    "### Simulation with initial conditions (2.5, 1.0, 0.0) ###\n",
    "for i in range(1, tot_steps):\n",
    "    x1_dt = sim_1_x[i-1] + dt*(-sim_1_y[i-1]**2 - sim_1_z[i-1]**2 - (a*sim_1_x[i-1]) + (a*F))\n",
    "    y1_dt = sim_1_y[i-1] + dt*(sim_1_x[i-1] * sim_1_y[i-1] - (b*sim_1_x[i-1]*sim_1_z[i-1]) - sim_1_y[i-1] + G)\n",
    "    z1_dt = sim_1_z[i-1] + dt*((b*sim_1_x[i-1]*sim_1_y[i-1]) + (sim_1_x[i-1]*sim_1_z[i-1]) - sim_1_z[i-1])\n",
    "    sim_1_x[i] = x1_dt\n",
    "    sim_1_y[i] = y1_dt\n",
    "    sim_1_z[i] = z1_dt"
   ]
  },
  {
   "cell_type": "code",
   "execution_count": null,
   "id": "2f1f7bc2",
   "metadata": {},
   "outputs": [],
   "source": [
    "### Simulation with initial conditions (2.49, 1.0, 0.0) ###\n",
    "for i in range(1, tot_steps):\n",
    "    x2_dt = sim_2_x[i-1] + dt*(-sim_2_y[i-1]**2 - sim_2_z[i-1]**2 - (a*sim_2_x[i-1]) + (a*F))\n",
    "    y2_dt = sim_2_y[i-1] + dt*(sim_2_x[i-1] * sim_2_y[i-1] - (b*sim_2_x[i-1]*sim_2_z[i-1]) - sim_2_y[i-1] + G)\n",
    "    z2_dt = sim_2_z[i-1] + dt*((b*sim_2_x[i-1]*sim_2_y[i-1]) + (sim_2_x[i-1]*sim_2_z[i-1]) - sim_2_z[i-1])\n",
    "    sim_2_x[i] = x2_dt\n",
    "    sim_2_y[i] = y2_dt\n",
    "    sim_2_z[i] = z2_dt"
   ]
  },
  {
   "cell_type": "code",
   "execution_count": null,
   "id": "c23beffc",
   "metadata": {},
   "outputs": [],
   "source": [
    "### Plot X results from both simulations ###\n",
    "fig = plt.figure(figsize = (18,10))\n",
    "plt.plot(sim_1_x[:], color = 'green', label = 'x = 2.5, y = 1.0, z = 0.0')\n",
    "plt.plot(sim_2_x[:], color = 'blue', label = 'x = 2.49, y = 1.0, z = 0.0')\n",
    "plt.legend()\n",
    "plt.title('Chaos Comparison, X direction')\n",
    "plt.savefig('chaos_x.png')\n",
    "plt.show"
   ]
  },
  {
   "cell_type": "code",
   "execution_count": null,
   "id": "91626a39",
   "metadata": {},
   "outputs": [],
   "source": [
    "### Plot Y results from both simulations ###\n",
    "fig = plt.figure(figsize = (18,10))\n",
    "plt.plot(sim_1_y[:], color = 'green', label = 'x = 2.5, y = 1.0, z = 0.0')\n",
    "plt.plot(sim_2_y[:], color = 'blue', label = 'x = 2.49, y = 1.0, z = 0.0')\n",
    "plt.legend()\n",
    "plt.title('Chaos Comparison, Y direction')\n",
    "plt.savefig('chaos_y.png')\n",
    "plt.show"
   ]
  },
  {
   "cell_type": "code",
   "execution_count": null,
   "id": "2c283a31",
   "metadata": {},
   "outputs": [],
   "source": [
    "### Plot Z results from both simulations ###\n",
    "fig = plt.figure(figsize = (18,10))\n",
    "plt.plot(sim_1_z[:], color = 'green', label = 'x = 2.5, y = 1.0, z = 0.0')\n",
    "plt.plot(sim_2_z[:], color = 'blue', label = 'x = 2.49, y = 1.0, z = 0.0')\n",
    "plt.legend()\n",
    "plt.title('Chaos Comparison, Z direction')\n",
    "plt.savefig('chaos_z.png')\n",
    "plt.show"
   ]
  },
  {
   "cell_type": "code",
   "execution_count": null,
   "id": "d5507f28",
   "metadata": {},
   "outputs": [],
   "source": [
    "### In a separte text file (or below), provide a discussion of your results ###\n",
    "### Make sure to answer the following questions in your discussion          ###\n",
    "### 1 - Are the two simulations the same throughout the entire period?      ###\n",
    "###     If not, when do they diverge?                                       ###\n",
    "### 2 - If the ending points are different, what does this say regarding    ###\n",
    "###     the importance of providing NWP models, assuming this serves as a   ###\n",
    "###     proxy for one, with accurate and balanced initial conditions?       ###\n",
    "'''\n",
    "    1 - The two simulations are not the same throught the whole period, which\n",
    "    makes sense. The initial conditions are different, so it makes sense that\n",
    "    the graph was not the same the whole period. The graphs diverge pretty early\n",
    "    on in the period, although it is difficult to tell exactly where. We can \n",
    "    clearly see that the graphs are diverging a bit as early as the 40th time \n",
    "    step or so, but again, they are diverging basically right away.\n",
    "    \n",
    "    2 - The ending points are pretty different, so it is clear that it is \n",
    "    important to supply NWP models with accurate and balanced initial conditions\n",
    "    The only difference between the 2 models is the initial conditions, which\n",
    "    are pretty similar. Just one variable is .01 off from the other, and in the\n",
    "    end, there were wildly different results.\n",
    "\n",
    "'''"
   ]
  }
 ],
 "metadata": {
  "kernelspec": {
   "display_name": "Python 3 (ipykernel)",
   "language": "python",
   "name": "python3"
  },
  "language_info": {
   "codemirror_mode": {
    "name": "ipython",
    "version": 3
   },
   "file_extension": ".py",
   "mimetype": "text/x-python",
   "name": "python",
   "nbconvert_exporter": "python",
   "pygments_lexer": "ipython3",
   "version": "3.10.4"
  }
 },
 "nbformat": 4,
 "nbformat_minor": 5
}
